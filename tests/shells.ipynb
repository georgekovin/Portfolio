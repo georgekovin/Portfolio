{
 "cells": [
  {
   "cell_type": "code",
   "execution_count": 72,
   "metadata": {},
   "outputs": [],
   "source": [
    "import pandas as pd\n",
    "from scipy.stats import (shapiro, \n",
    "                         normaltest, \n",
    "                         pearsonr, \n",
    "                         spearmanr, \n",
    "                         ttest_ind)\n",
    "\n",
    "from statsmodels.stats.weightstats import ztest"
   ]
  },
  {
   "cell_type": "code",
   "execution_count": 73,
   "metadata": {},
   "outputs": [],
   "source": [
    "# набор данных\n",
    "\n",
    "petersburg = [0.0974, 0.1352, 0.0817, 0.1016, 0.0968, 0.1064, 0.105]\n",
    "magadan = [0.1033, 0.0915, 0.0781, 0.0685, 0.0677, 0.0697, 0.0764, 0.0689]\n",
    "\n",
    "pmean = pd.Series(data=petersburg).mean().round(4) # выравниваем количество элементов\n",
    "\n",
    "petersburg.append(pmean)"
   ]
  },
  {
   "cell_type": "code",
   "execution_count": 74,
   "metadata": {},
   "outputs": [
    {
     "data": {
      "text/html": [
       "<div>\n",
       "<style scoped>\n",
       "    .dataframe tbody tr th:only-of-type {\n",
       "        vertical-align: middle;\n",
       "    }\n",
       "\n",
       "    .dataframe tbody tr th {\n",
       "        vertical-align: top;\n",
       "    }\n",
       "\n",
       "    .dataframe thead th {\n",
       "        text-align: right;\n",
       "    }\n",
       "</style>\n",
       "<table border=\"1\" class=\"dataframe\">\n",
       "  <thead>\n",
       "    <tr style=\"text-align: right;\">\n",
       "      <th></th>\n",
       "      <th>pet</th>\n",
       "      <th>mag</th>\n",
       "    </tr>\n",
       "  </thead>\n",
       "  <tbody>\n",
       "    <tr>\n",
       "      <th>0</th>\n",
       "      <td>0.0974</td>\n",
       "      <td>0.1033</td>\n",
       "    </tr>\n",
       "    <tr>\n",
       "      <th>1</th>\n",
       "      <td>0.1352</td>\n",
       "      <td>0.0915</td>\n",
       "    </tr>\n",
       "    <tr>\n",
       "      <th>2</th>\n",
       "      <td>0.0817</td>\n",
       "      <td>0.0781</td>\n",
       "    </tr>\n",
       "    <tr>\n",
       "      <th>3</th>\n",
       "      <td>0.1016</td>\n",
       "      <td>0.0685</td>\n",
       "    </tr>\n",
       "    <tr>\n",
       "      <th>4</th>\n",
       "      <td>0.0968</td>\n",
       "      <td>0.0677</td>\n",
       "    </tr>\n",
       "    <tr>\n",
       "      <th>5</th>\n",
       "      <td>0.1064</td>\n",
       "      <td>0.0697</td>\n",
       "    </tr>\n",
       "    <tr>\n",
       "      <th>6</th>\n",
       "      <td>0.1050</td>\n",
       "      <td>0.0764</td>\n",
       "    </tr>\n",
       "    <tr>\n",
       "      <th>7</th>\n",
       "      <td>0.1034</td>\n",
       "      <td>0.0689</td>\n",
       "    </tr>\n",
       "  </tbody>\n",
       "</table>\n",
       "</div>"
      ],
      "text/plain": [
       "      pet     mag\n",
       "0  0.0974  0.1033\n",
       "1  0.1352  0.0915\n",
       "2  0.0817  0.0781\n",
       "3  0.1016  0.0685\n",
       "4  0.0968  0.0677\n",
       "5  0.1064  0.0697\n",
       "6  0.1050  0.0764\n",
       "7  0.1034  0.0689"
      ]
     },
     "execution_count": 74,
     "metadata": {},
     "output_type": "execute_result"
    }
   ],
   "source": [
    "# объединение данных в DataFrame\n",
    "\n",
    "d = {'pet': petersburg, 'mag': magadan}\n",
    "\n",
    "shells_df = pd.DataFrame(data=d)\n",
    "\n",
    "shells_df"
   ]
  },
  {
   "cell_type": "code",
   "execution_count": 75,
   "metadata": {},
   "outputs": [
    {
     "name": "stdout",
     "output_type": "stream",
     "text": [
      "0.10020463168621063 > 0.05 \n",
      "Данные распределены нормально \n",
      "\n",
      "Так что используем корреляцию Пирсона\n",
      "Она равна 0.2448446105155939\n"
     ]
    }
   ],
   "source": [
    "# проверка данных на нормальность и корреляцию\n",
    "\n",
    "h0 = 'Данные распределены нормально'\n",
    "h1 = 'Данные не распределены нормально'\n",
    "\n",
    "alpha = 0.05\n",
    "\n",
    "def testnormcorr(data: pd.DataFrame, \n",
    "                 alpha: float):\n",
    "    \n",
    "      _, p = shapiro(data)\n",
    "      \n",
    "      if p > alpha:\n",
    "            print(f'{p} > {alpha} \\n{h0} \\n'\n",
    "                  '\\n'\n",
    "                  'Так что используем корреляцию Пирсона')\n",
    "            \n",
    "            c, pv = pearsonr(x=data.iloc[:, 0],\n",
    "                             y=data.iloc[:, 1])\n",
    "            \n",
    "      else:\n",
    "            print(f'{p} <= {alpha} \\n{h1} \\n'\n",
    "                  '\\n'\n",
    "                  'Так что используем корреляцию Спирмена')\n",
    "            \n",
    "            c, pv = spearmanr(a=data.iloc[:, 0],\n",
    "                              b=data.iloc[:, 1])\n",
    "      \n",
    "      print(f'Она равна {c}')\n",
    "            \n",
    "\n",
    "testnormcorr(shells_df, alpha)"
   ]
  },
  {
   "cell_type": "markdown",
   "metadata": {},
   "source": [
    "Вывод: данные имеют нормальное распределение и очень слабую положительную связь. Вероятно потому что мидий подбирали в случайном порядке."
   ]
  },
  {
   "cell_type": "code",
   "execution_count": 77,
   "metadata": {},
   "outputs": [
    {
     "name": "stdout",
     "output_type": "stream",
     "text": [
      "Мы сравниваем 2 группы по 8 объектов\n",
      "Выборка составляет меньше 30 объектов \n",
      "Следовательно используем независимый Т-тест \n",
      "\n",
      "0.0027388614510137294 <= 0.05 \n",
      "Мы отвергаем нулевую гипотезу. Мидии из разных городов имеют различие в размерах.\n"
     ]
    }
   ],
   "source": [
    "# Какова разница в среднем размере мидии в зависимости от города-производителя?\n",
    "\n",
    "h0 = 'Нет разницы между размерами мидий от разных производителей.'\n",
    "h1 = 'Мидии из разных городов имеют различие в размерах.'\n",
    "\n",
    "alpha = 0.05\n",
    "\n",
    "def hypotest(data: pd.DataFrame, \n",
    "             alpha: float):\n",
    "    \n",
    "    groups = data.shape[1]\n",
    "    objs = data.shape[0]\n",
    "    \n",
    "    if groups == 2:\n",
    "        print(f'Мы сравниваем {groups} группы по {objs} объектов')\n",
    "        # заранее известно, что это разные совокупности\n",
    "        \n",
    "        if objs < 30:\n",
    "            print('Выборка составляет меньше 30 объектов \\n'\n",
    "                  'Следовательно используем независимый Т-тест \\n')\n",
    "            \n",
    "            tt, p = ttest_ind(data.iloc[:, 0], \n",
    "                              data.iloc[:, 1], \n",
    "                              equal_var=True)\n",
    "            \n",
    "        else:\n",
    "            print('Выборка составляет 30 или более объектов \\n'\n",
    "                  'Следовательно используем Z-тест \\n')\n",
    "            \n",
    "            z, p = ztest(data.iloc[:, 0], \n",
    "                         data.iloc[:, 1], \n",
    "                         value=0, \n",
    "                         alternative='two-sided')\n",
    "\n",
    "        \n",
    "    if p > alpha:\n",
    "        print(f'{p} > {alpha} \\n' \n",
    "              f'Мы не можем отвергнуть нулевую гипотезу. {h0}')\n",
    "    else:\n",
    "        print(f'{p} <= {alpha} \\n' \n",
    "              f'Мы отвергаем нулевую гипотезу. {h1}')\n",
    "        \n",
    "        \n",
    "hypotest(shells_df, alpha)"
   ]
  },
  {
   "cell_type": "markdown",
   "metadata": {},
   "source": [
    "Вывод: размеры раковин мидий из Балтийского и Охотского морей имеют значительную разницу. На мой взгляд на это влияет в первую очередь температура воды. Так как Балтийское море более теплое, чем Охотское, то мидии из Ленинграда будут больше, чем из Магадана."
   ]
  }
 ],
 "metadata": {
  "kernelspec": {
   "display_name": "Python 3.8.10 64-bit",
   "language": "python",
   "name": "python3"
  },
  "language_info": {
   "codemirror_mode": {
    "name": "ipython",
    "version": 3
   },
   "file_extension": ".py",
   "mimetype": "text/x-python",
   "name": "python",
   "nbconvert_exporter": "python",
   "pygments_lexer": "ipython3",
   "version": "3.8.10"
  },
  "orig_nbformat": 4,
  "vscode": {
   "interpreter": {
    "hash": "135702e26fd99f6bc3e947dd778d319ca303123d9f0d3debb149b9d9121e5114"
   }
  }
 },
 "nbformat": 4,
 "nbformat_minor": 2
}
