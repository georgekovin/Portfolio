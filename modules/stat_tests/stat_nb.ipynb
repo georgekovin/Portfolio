{
 "cells": [
  {
   "attachments": {},
   "cell_type": "markdown",
   "metadata": {},
   "source": [
    "**Testing the STATTEST function**"
   ]
  },
  {
   "cell_type": "code",
   "execution_count": 129,
   "metadata": {},
   "outputs": [],
   "source": [
    "import pandas as pd\n",
    "from stattests_copy import stattest"
   ]
  },
  {
   "attachments": {},
   "cell_type": "markdown",
   "metadata": {},
   "source": [
    "Dataset"
   ]
  },
  {
   "cell_type": "code",
   "execution_count": 130,
   "metadata": {},
   "outputs": [
    {
     "data": {
      "text/html": [
       "<div>\n",
       "<style scoped>\n",
       "    .dataframe tbody tr th:only-of-type {\n",
       "        vertical-align: middle;\n",
       "    }\n",
       "\n",
       "    .dataframe tbody tr th {\n",
       "        vertical-align: top;\n",
       "    }\n",
       "\n",
       "    .dataframe thead th {\n",
       "        text-align: right;\n",
       "    }\n",
       "</style>\n",
       "<table border=\"1\" class=\"dataframe\">\n",
       "  <thead>\n",
       "    <tr style=\"text-align: right;\">\n",
       "      <th></th>\n",
       "      <th>Making Unit 1</th>\n",
       "      <th>Making Unit 2</th>\n",
       "    </tr>\n",
       "  </thead>\n",
       "  <tbody>\n",
       "    <tr>\n",
       "      <th>0</th>\n",
       "      <td>6.8090</td>\n",
       "      <td>6.7703</td>\n",
       "    </tr>\n",
       "    <tr>\n",
       "      <th>1</th>\n",
       "      <td>6.4376</td>\n",
       "      <td>7.5093</td>\n",
       "    </tr>\n",
       "    <tr>\n",
       "      <th>2</th>\n",
       "      <td>6.9157</td>\n",
       "      <td>6.7300</td>\n",
       "    </tr>\n",
       "    <tr>\n",
       "      <th>3</th>\n",
       "      <td>7.3012</td>\n",
       "      <td>6.7878</td>\n",
       "    </tr>\n",
       "    <tr>\n",
       "      <th>4</th>\n",
       "      <td>7.4488</td>\n",
       "      <td>7.1522</td>\n",
       "    </tr>\n",
       "  </tbody>\n",
       "</table>\n",
       "</div>"
      ],
      "text/plain": [
       "   Making Unit 1  Making Unit 2\n",
       "0         6.8090         6.7703\n",
       "1         6.4376         7.5093\n",
       "2         6.9157         6.7300\n",
       "3         7.3012         6.7878\n",
       "4         7.4488         7.1522"
      ]
     },
     "execution_count": 130,
     "metadata": {},
     "output_type": "execute_result"
    }
   ],
   "source": [
    "pizza = pd.read_csv('https://raw.githubusercontent.com/harika-bonthu/Hypothesis-test-examples/main/pizzas.csv')\n",
    "\n",
    "pizza.head()"
   ]
  },
  {
   "attachments": {},
   "cell_type": "markdown",
   "metadata": {},
   "source": [
    "If normal distribution in sample"
   ]
  },
  {
   "cell_type": "code",
   "execution_count": 131,
   "metadata": {},
   "outputs": [
    {
     "name": "stdout",
     "output_type": "stream",
     "text": [
      "p=0.204 > 0.05 \n",
      "Normal distribution\n",
      "\n"
     ]
    }
   ],
   "source": [
    "stattest(data=pizza, \n",
    "         alpha=0.05, \n",
    "         norm='shapiro')"
   ]
  },
  {
   "cell_type": "code",
   "execution_count": 132,
   "metadata": {},
   "outputs": [
    {
     "name": "stdout",
     "output_type": "stream",
     "text": [
      "p=0.251 > 0.025 \n",
      "Normal distribution\n",
      "\n"
     ]
    }
   ],
   "source": [
    "stattest(data=pizza, \n",
    "         alpha=0.05, \n",
    "         norm='dagostino')"
   ]
  },
  {
   "cell_type": "code",
   "execution_count": 133,
   "metadata": {},
   "outputs": [
    {
     "name": "stdout",
     "output_type": "stream",
     "text": [
      "p=0.204 > 0.05 \n",
      "Normal distribution\n",
      "\n",
      "Correlation is 0.08131018627341857. \n",
      "Test is Pearson's correlation \n",
      "\n"
     ]
    }
   ],
   "source": [
    "stattest(data=pizza, \n",
    "         alpha=0.05, \n",
    "         norm='shapiro', \n",
    "         corr=True)"
   ]
  },
  {
   "cell_type": "code",
   "execution_count": 134,
   "metadata": {},
   "outputs": [
    {
     "name": "stdout",
     "output_type": "stream",
     "text": [
      "p=0.204 > 0.05 \n",
      "Normal distribution\n",
      "\n",
      "0.46976045023906055 > 0.05. \n",
      "We cannot reject zero hypothesis - a.\n",
      "Test is Z-test \n",
      "\n"
     ]
    }
   ],
   "source": [
    "stattest(data=pizza, \n",
    "         h_zero='a', \n",
    "         h_alt='b', \n",
    "         alpha=0.05, \n",
    "         norm='shapiro', \n",
    "         pvalue=True)"
   ]
  },
  {
   "cell_type": "code",
   "execution_count": 135,
   "metadata": {},
   "outputs": [
    {
     "name": "stdout",
     "output_type": "stream",
     "text": [
      "4\n",
      "p=0.204 > 0.05 \n",
      "Normal distribution\n",
      "\n",
      "Correlation is 0.08131018627341857. \n",
      "Test is Pearson's correlation \n",
      "\n",
      "0.46976045023906055 > 0.05. \n",
      "We cannot reject zero hypothesis - a.\n",
      "Test is Z-test \n",
      "\n"
     ]
    }
   ],
   "source": [
    "print('4')\n",
    "stattest(data=pizza, \n",
    "         h_zero='a', \n",
    "         h_alt='b', \n",
    "         alpha=0.05, \n",
    "         norm='shapiro', \n",
    "         corr=True, \n",
    "         pvalue=True)"
   ]
  },
  {
   "cell_type": "code",
   "execution_count": 136,
   "metadata": {},
   "outputs": [
    {
     "name": "stdout",
     "output_type": "stream",
     "text": [
      "5\n",
      "p=0.204 > 0.05 \n",
      "Normal distribution\n",
      "\n",
      "Missing hypothesises\n",
      "\n"
     ]
    }
   ],
   "source": [
    "print('5')\n",
    "stattest(data=pizza, \n",
    "         alpha=0.05, \n",
    "         norm='shapiro', \n",
    "         pvalue=True)"
   ]
  },
  {
   "cell_type": "code",
   "execution_count": 137,
   "metadata": {},
   "outputs": [
    {
     "name": "stdout",
     "output_type": "stream",
     "text": [
      "6\n",
      "p=0.204 <= 0.3 \n",
      "Abnormal distribution\n",
      "\n"
     ]
    }
   ],
   "source": [
    "print('6')\n",
    "stattest(data=pizza, \n",
    "         alpha=0.3, \n",
    "         norm='shapiro')"
   ]
  },
  {
   "cell_type": "code",
   "execution_count": 138,
   "metadata": {},
   "outputs": [
    {
     "name": "stdout",
     "output_type": "stream",
     "text": [
      "7\n",
      "p=0.204 <= 0.3 \n",
      "Abnormal distribution\n",
      "\n",
      "Correlation is 0.04537815126050421. \n",
      "Test is Spearman's correlation \n",
      "\n"
     ]
    }
   ],
   "source": [
    "print('7')\n",
    "stattest(data=pizza, \n",
    "         alpha=0.3, \n",
    "         norm='shapiro', \n",
    "         corr=True)"
   ]
  },
  {
   "cell_type": "code",
   "execution_count": 139,
   "metadata": {},
   "outputs": [
    {
     "name": "stdout",
     "output_type": "stream",
     "text": [
      "8\n",
      "p=0.204 <= 0.3 \n",
      "Abnormal distribution\n",
      "\n"
     ]
    }
   ],
   "source": [
    "print('8')\n",
    "stattest(data=pizza, \n",
    "         h_zero='a', \n",
    "         h_alt='b', \n",
    "         alpha=0.3, \n",
    "         norm='shapiro', \n",
    "         pvalue=True)"
   ]
  },
  {
   "cell_type": "code",
   "execution_count": 140,
   "metadata": {},
   "outputs": [
    {
     "name": "stdout",
     "output_type": "stream",
     "text": [
      "9\n",
      "p=0.204 <= 0.3 \n",
      "Abnormal distribution\n",
      "\n",
      "Correlation is 0.04537815126050421. \n",
      "Test is Spearman's correlation \n",
      "\n"
     ]
    }
   ],
   "source": [
    "print('9')\n",
    "stattest(data=pizza, \n",
    "         h_zero='a', \n",
    "         h_alt='b', \n",
    "         alpha=0.3, \n",
    "         norm='shapiro', \n",
    "         corr=True, \n",
    "         pvalue=True)"
   ]
  },
  {
   "cell_type": "code",
   "execution_count": 141,
   "metadata": {},
   "outputs": [
    {
     "name": "stdout",
     "output_type": "stream",
     "text": [
      "10\n",
      "p=0.204 <= 0.3 \n",
      "Abnormal distribution\n",
      "\n"
     ]
    }
   ],
   "source": [
    "print('10')\n",
    "stattest(data=pizza, \n",
    "         alpha=0.3, \n",
    "         norm='shapiro', \n",
    "         pvalue=True)"
   ]
  }
 ],
 "metadata": {
  "kernelspec": {
   "display_name": "Python 3",
   "language": "python",
   "name": "python3"
  },
  "language_info": {
   "codemirror_mode": {
    "name": "ipython",
    "version": 3
   },
   "file_extension": ".py",
   "mimetype": "text/x-python",
   "name": "python",
   "nbconvert_exporter": "python",
   "pygments_lexer": "ipython3",
   "version": "3.11.0"
  },
  "orig_nbformat": 4,
  "vscode": {
   "interpreter": {
    "hash": "cf3bd64521ec9d5d1d9f6e01df0437de596a691fba8d35d31beb5c91f22bd0b0"
   }
  }
 },
 "nbformat": 4,
 "nbformat_minor": 2
}
