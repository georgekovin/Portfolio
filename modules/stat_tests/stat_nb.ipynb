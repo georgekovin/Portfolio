{
 "cells": [
  {
   "attachments": {},
   "cell_type": "markdown",
   "metadata": {},
   "source": [
    "**Testing the STATTEST function**"
   ]
  },
  {
   "cell_type": "code",
   "execution_count": 14,
   "metadata": {},
   "outputs": [],
   "source": [
    "import pandas as pd\n",
    "from stattests_copy import stattest"
   ]
  },
  {
   "attachments": {},
   "cell_type": "markdown",
   "metadata": {},
   "source": [
    "Dataset"
   ]
  },
  {
   "cell_type": "code",
   "execution_count": 15,
   "metadata": {},
   "outputs": [
    {
     "data": {
      "text/html": [
       "<div>\n",
       "<style scoped>\n",
       "    .dataframe tbody tr th:only-of-type {\n",
       "        vertical-align: middle;\n",
       "    }\n",
       "\n",
       "    .dataframe tbody tr th {\n",
       "        vertical-align: top;\n",
       "    }\n",
       "\n",
       "    .dataframe thead th {\n",
       "        text-align: right;\n",
       "    }\n",
       "</style>\n",
       "<table border=\"1\" class=\"dataframe\">\n",
       "  <thead>\n",
       "    <tr style=\"text-align: right;\">\n",
       "      <th></th>\n",
       "      <th>Making Unit 1</th>\n",
       "      <th>Making Unit 2</th>\n",
       "    </tr>\n",
       "  </thead>\n",
       "  <tbody>\n",
       "    <tr>\n",
       "      <th>0</th>\n",
       "      <td>6.8090</td>\n",
       "      <td>6.7703</td>\n",
       "    </tr>\n",
       "    <tr>\n",
       "      <th>1</th>\n",
       "      <td>6.4376</td>\n",
       "      <td>7.5093</td>\n",
       "    </tr>\n",
       "    <tr>\n",
       "      <th>2</th>\n",
       "      <td>6.9157</td>\n",
       "      <td>6.7300</td>\n",
       "    </tr>\n",
       "    <tr>\n",
       "      <th>3</th>\n",
       "      <td>7.3012</td>\n",
       "      <td>6.7878</td>\n",
       "    </tr>\n",
       "    <tr>\n",
       "      <th>4</th>\n",
       "      <td>7.4488</td>\n",
       "      <td>7.1522</td>\n",
       "    </tr>\n",
       "  </tbody>\n",
       "</table>\n",
       "</div>"
      ],
      "text/plain": [
       "   Making Unit 1  Making Unit 2\n",
       "0         6.8090         6.7703\n",
       "1         6.4376         7.5093\n",
       "2         6.9157         6.7300\n",
       "3         7.3012         6.7878\n",
       "4         7.4488         7.1522"
      ]
     },
     "execution_count": 15,
     "metadata": {},
     "output_type": "execute_result"
    }
   ],
   "source": [
    "pizza = pd.read_csv('https://raw.githubusercontent.com/harika-bonthu/Hypothesis-test-examples/main/pizzas.csv')\n",
    "\n",
    "pizza.head()"
   ]
  },
  {
   "attachments": {},
   "cell_type": "markdown",
   "metadata": {},
   "source": [
    "If normal distribution in sample"
   ]
  },
  {
   "cell_type": "code",
   "execution_count": 16,
   "metadata": {},
   "outputs": [
    {
     "name": "stdout",
     "output_type": "stream",
     "text": [
      "p=0.204 > 0.05 \n",
      "Normal distribution\n",
      "\n"
     ]
    }
   ],
   "source": [
    "stattest(data=pizza, \n",
    "         alpha=0.05, \n",
    "         norm='shapiro')"
   ]
  },
  {
   "cell_type": "code",
   "execution_count": 17,
   "metadata": {},
   "outputs": [
    {
     "name": "stdout",
     "output_type": "stream",
     "text": [
      "p=0.251 > 0.025 \n",
      "Normal distribution\n",
      "\n"
     ]
    }
   ],
   "source": [
    "stattest(data=pizza, \n",
    "         alpha=0.05, \n",
    "         norm='dagostino')"
   ]
  },
  {
   "cell_type": "code",
   "execution_count": 18,
   "metadata": {},
   "outputs": [
    {
     "name": "stdout",
     "output_type": "stream",
     "text": [
      "p=0.204 > 0.05 \n",
      "Normal distribution\n",
      "\n",
      "Correlation is 0.08. \n",
      "Test is Pearson's correlation \n",
      "\n"
     ]
    }
   ],
   "source": [
    "stattest(data=pizza, \n",
    "         alpha=0.05, \n",
    "         norm='shapiro', \n",
    "         corr=True)"
   ]
  },
  {
   "cell_type": "code",
   "execution_count": 19,
   "metadata": {},
   "outputs": [
    {
     "name": "stdout",
     "output_type": "stream",
     "text": [
      "p=0.204 > 0.05 \n",
      "Normal distribution\n",
      "\n",
      "0.47 > 0.05. \n",
      "We cannot reject zero hypothesis - a.\n",
      "Test is Z-test \n",
      "\n"
     ]
    }
   ],
   "source": [
    "stattest(data=pizza, \n",
    "         h_zero='a', \n",
    "         h_alt='b', \n",
    "         alpha=0.05, \n",
    "         norm='shapiro', \n",
    "         pvalue=True)"
   ]
  },
  {
   "cell_type": "code",
   "execution_count": 20,
   "metadata": {},
   "outputs": [
    {
     "name": "stdout",
     "output_type": "stream",
     "text": [
      "p=0.204 > 0.05 \n",
      "Normal distribution\n",
      "\n",
      "Correlation is 0.08. \n",
      "Test is Pearson's correlation \n",
      "\n",
      "0.47 > 0.05. \n",
      "We cannot reject zero hypothesis - a.\n",
      "Test is Z-test \n",
      "\n"
     ]
    }
   ],
   "source": [
    "stattest(data=pizza, \n",
    "         h_zero='a', \n",
    "         h_alt='b', \n",
    "         alpha=0.05, \n",
    "         norm='shapiro', \n",
    "         corr=True, \n",
    "         pvalue=True)"
   ]
  },
  {
   "cell_type": "code",
   "execution_count": 21,
   "metadata": {},
   "outputs": [
    {
     "name": "stdout",
     "output_type": "stream",
     "text": [
      "p=0.204 > 0.05 \n",
      "Normal distribution\n",
      "\n",
      "Missing hypothesises\n",
      "\n"
     ]
    }
   ],
   "source": [
    "stattest(data=pizza, \n",
    "         alpha=0.05, \n",
    "         norm='shapiro', \n",
    "         pvalue=True)"
   ]
  },
  {
   "cell_type": "code",
   "execution_count": 22,
   "metadata": {},
   "outputs": [
    {
     "name": "stdout",
     "output_type": "stream",
     "text": [
      "p=0.204 <= 0.3 \n",
      "Abnormal distribution\n",
      "\n"
     ]
    }
   ],
   "source": [
    "stattest(data=pizza, \n",
    "         alpha=0.3, \n",
    "         norm='shapiro')"
   ]
  },
  {
   "cell_type": "code",
   "execution_count": 23,
   "metadata": {},
   "outputs": [
    {
     "name": "stdout",
     "output_type": "stream",
     "text": [
      "p=0.204 <= 0.3 \n",
      "Abnormal distribution\n",
      "\n",
      "Correlation is 0.05. \n",
      "Test is Spearman's correlation \n",
      "\n"
     ]
    }
   ],
   "source": [
    "stattest(data=pizza, \n",
    "         alpha=0.3, \n",
    "         norm='shapiro', \n",
    "         corr=True)"
   ]
  },
  {
   "cell_type": "code",
   "execution_count": 24,
   "metadata": {},
   "outputs": [
    {
     "name": "stdout",
     "output_type": "stream",
     "text": [
      "p=0.204 <= 0.3 \n",
      "Abnormal distribution\n",
      "\n"
     ]
    }
   ],
   "source": [
    "stattest(data=pizza, \n",
    "         h_zero='a', \n",
    "         h_alt='b', \n",
    "         alpha=0.3, \n",
    "         norm='shapiro', \n",
    "         pvalue=True)"
   ]
  },
  {
   "cell_type": "code",
   "execution_count": 25,
   "metadata": {},
   "outputs": [
    {
     "name": "stdout",
     "output_type": "stream",
     "text": [
      "p=0.204 <= 0.3 \n",
      "Abnormal distribution\n",
      "\n",
      "Correlation is 0.05. \n",
      "Test is Spearman's correlation \n",
      "\n"
     ]
    }
   ],
   "source": [
    "stattest(data=pizza, \n",
    "         h_zero='a', \n",
    "         h_alt='b', \n",
    "         alpha=0.3, \n",
    "         norm='shapiro', \n",
    "         corr=True, \n",
    "         pvalue=True)"
   ]
  },
  {
   "cell_type": "code",
   "execution_count": 26,
   "metadata": {},
   "outputs": [
    {
     "name": "stdout",
     "output_type": "stream",
     "text": [
      "p=0.204 <= 0.3 \n",
      "Abnormal distribution\n",
      "\n"
     ]
    }
   ],
   "source": [
    "stattest(data=pizza, \n",
    "         alpha=0.3, \n",
    "         norm='shapiro', \n",
    "         pvalue=True)"
   ]
  }
 ],
 "metadata": {
  "kernelspec": {
   "display_name": "Python 3",
   "language": "python",
   "name": "python3"
  },
  "language_info": {
   "codemirror_mode": {
    "name": "ipython",
    "version": 3
   },
   "file_extension": ".py",
   "mimetype": "text/x-python",
   "name": "python",
   "nbconvert_exporter": "python",
   "pygments_lexer": "ipython3",
   "version": "3.11.0 (main, Oct 24 2022, 18:26:48) [MSC v.1933 64 bit (AMD64)]"
  },
  "orig_nbformat": 4,
  "vscode": {
   "interpreter": {
    "hash": "cf3bd64521ec9d5d1d9f6e01df0437de596a691fba8d35d31beb5c91f22bd0b0"
   }
  }
 },
 "nbformat": 4,
 "nbformat_minor": 2
}
