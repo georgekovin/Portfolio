{
 "cells": [
  {
   "cell_type": "code",
   "execution_count": 2,
   "metadata": {},
   "outputs": [],
   "source": [
    "import pandas as pd\n",
    "import json\n",
    "from pprint import pprint"
   ]
  },
  {
   "cell_type": "code",
   "execution_count": 3,
   "metadata": {},
   "outputs": [
    {
     "data": {
      "text/html": [
       "<div>\n",
       "<style scoped>\n",
       "    .dataframe tbody tr th:only-of-type {\n",
       "        vertical-align: middle;\n",
       "    }\n",
       "\n",
       "    .dataframe tbody tr th {\n",
       "        vertical-align: top;\n",
       "    }\n",
       "\n",
       "    .dataframe thead th {\n",
       "        text-align: right;\n",
       "    }\n",
       "</style>\n",
       "<table border=\"1\" class=\"dataframe\">\n",
       "  <thead>\n",
       "    <tr style=\"text-align: right;\">\n",
       "      <th></th>\n",
       "      <th>cuisine</th>\n",
       "      <th>id</th>\n",
       "      <th>ingredients</th>\n",
       "    </tr>\n",
       "  </thead>\n",
       "  <tbody>\n",
       "    <tr>\n",
       "      <th>0</th>\n",
       "      <td>spanish</td>\n",
       "      <td>14342</td>\n",
       "      <td>[fresh thyme, pitted olives, baking potatoes, ...</td>\n",
       "    </tr>\n",
       "    <tr>\n",
       "      <th>1</th>\n",
       "      <td>italian</td>\n",
       "      <td>26631</td>\n",
       "      <td>[rosemary leaves, cracked black pepper, pinenu...</td>\n",
       "    </tr>\n",
       "    <tr>\n",
       "      <th>2</th>\n",
       "      <td>japanese</td>\n",
       "      <td>14351</td>\n",
       "      <td>[fresh ginger root, dark soy sauce, steak, sal...</td>\n",
       "    </tr>\n",
       "    <tr>\n",
       "      <th>3</th>\n",
       "      <td>mexican</td>\n",
       "      <td>4114</td>\n",
       "      <td>[salsa, fat-free refried beans, fresh lime, to...</td>\n",
       "    </tr>\n",
       "    <tr>\n",
       "      <th>4</th>\n",
       "      <td>greek</td>\n",
       "      <td>10259</td>\n",
       "      <td>[grape tomatoes, pepper, garbanzo beans, feta ...</td>\n",
       "    </tr>\n",
       "    <tr>\n",
       "      <th>...</th>\n",
       "      <td>...</td>\n",
       "      <td>...</td>\n",
       "      <td>...</td>\n",
       "    </tr>\n",
       "    <tr>\n",
       "      <th>495</th>\n",
       "      <td>italian</td>\n",
       "      <td>49136</td>\n",
       "      <td>[linguine, flat leaf parsley, olives, olive oi...</td>\n",
       "    </tr>\n",
       "    <tr>\n",
       "      <th>496</th>\n",
       "      <td>mexican</td>\n",
       "      <td>28657</td>\n",
       "      <td>[picante sauce, shredded Monterey Jack cheese,...</td>\n",
       "    </tr>\n",
       "    <tr>\n",
       "      <th>497</th>\n",
       "      <td>korean</td>\n",
       "      <td>47095</td>\n",
       "      <td>[kosher salt, onions, baby bok choy, corn star...</td>\n",
       "    </tr>\n",
       "    <tr>\n",
       "      <th>498</th>\n",
       "      <td>italian</td>\n",
       "      <td>24568</td>\n",
       "      <td>[balsamic vinegar, onions, fresh basil, red pe...</td>\n",
       "    </tr>\n",
       "    <tr>\n",
       "      <th>499</th>\n",
       "      <td>french</td>\n",
       "      <td>36862</td>\n",
       "      <td>[ground cinnamon, cane sugar, salt, golden rai...</td>\n",
       "    </tr>\n",
       "  </tbody>\n",
       "</table>\n",
       "<p>500 rows × 3 columns</p>\n",
       "</div>"
      ],
      "text/plain": [
       "      cuisine     id                                        ingredients\n",
       "0     spanish  14342  [fresh thyme, pitted olives, baking potatoes, ...\n",
       "1     italian  26631  [rosemary leaves, cracked black pepper, pinenu...\n",
       "2    japanese  14351  [fresh ginger root, dark soy sauce, steak, sal...\n",
       "3     mexican   4114  [salsa, fat-free refried beans, fresh lime, to...\n",
       "4       greek  10259  [grape tomatoes, pepper, garbanzo beans, feta ...\n",
       "..        ...    ...                                                ...\n",
       "495   italian  49136  [linguine, flat leaf parsley, olives, olive oi...\n",
       "496   mexican  28657  [picante sauce, shredded Monterey Jack cheese,...\n",
       "497    korean  47095  [kosher salt, onions, baby bok choy, corn star...\n",
       "498   italian  24568  [balsamic vinegar, onions, fresh basil, red pe...\n",
       "499    french  36862  [ground cinnamon, cane sugar, salt, golden rai...\n",
       "\n",
       "[500 rows x 3 columns]"
      ]
     },
     "execution_count": 3,
     "metadata": {},
     "output_type": "execute_result"
    }
   ],
   "source": [
    "d = pd.read_json('new_recipes.json')\n",
    "\n",
    "d"
   ]
  },
  {
   "cell_type": "code",
   "execution_count": null,
   "metadata": {},
   "outputs": [],
   "source": []
  }
 ],
 "metadata": {
  "kernelspec": {
   "display_name": "Python 3.10.5 64-bit",
   "language": "python",
   "name": "python3"
  },
  "language_info": {
   "codemirror_mode": {
    "name": "ipython",
    "version": 3
   },
   "file_extension": ".py",
   "mimetype": "text/x-python",
   "name": "python",
   "nbconvert_exporter": "python",
   "pygments_lexer": "ipython3",
   "version": "3.10.5"
  },
  "orig_nbformat": 4,
  "vscode": {
   "interpreter": {
    "hash": "afb734500600fd355917ca529030176ea0ca205570884b88f2f6f7d791fd3fbe"
   }
  }
 },
 "nbformat": 4,
 "nbformat_minor": 2
}
